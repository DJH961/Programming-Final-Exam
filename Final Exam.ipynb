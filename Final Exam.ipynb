{
 "cells": [
  {
   "cell_type": "markdown",
   "metadata": {},
   "source": [
    "# The Online Cafeteria\n",
    "## Final Exam in Programming, Algorithms and Data Structures\n",
    "### Daniel Henke, 176182"
   ]
  }
 ],
 "metadata": {
  "language_info": {
   "name": "python"
  }
 },
 "nbformat": 4,
 "nbformat_minor": 2
}
